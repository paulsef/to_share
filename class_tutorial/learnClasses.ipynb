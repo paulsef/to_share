{
 "metadata": {
  "name": ""
 },
 "nbformat": 3,
 "nbformat_minor": 0,
 "worksheets": [
  {
   "cells": [
    {
     "cell_type": "markdown",
     "metadata": {},
     "source": [
      "I had no idea what python classes were as of a week ago and only had a vague notion of what object oriented programming even was. I needed help. To make matters worse, the only resources I could find online were contrived examples. But, through a lot of guesswork, bug fixing, and exploration, I developed a working knowledge of class and object oriented methods. This blog post will be an attempt at saving others from some of the pain I felt.\n",
      "\n",
      "This could easily be a field of rabbit holes, so I\u2019m going to highlight just a few key components of creating a class in python. This blog post is static but was created in an ipython notebook, available on github. I cannot emphasize enough the importance of playing around with class definitions to understand how they work. So clone the repository (ie. \"download it\", for the git unsavvy), run either the all-inclusive ipython notebook or just run the python scripts, and see what happens when you start changing things. That said, let\u2019s get started.\n",
      "\n",
      "Pretend we\u2019re a team of astronomers, and we just discovered a new solar system. Our task is organizing, classifying, and building functions to describe it. We don\u2019t know much yet. Only that we have a bunch of spherical-looking objects floating around pretty close to each other. We also know that we\u2019re going to be collecting a similar (but unique!) set of information about each of these objects like their name, size, etc. Finally, we\u2019re going to want to be able to define functions for the objects, like calculating the volume. Let\u2019s go ahead and create a class to define these objects:"
     ]
    },
    {
     "cell_type": "code",
     "collapsed": false,
     "input": [
      "from math import pi\n",
      "class Stellar:\n",
      "\t\"\"\"\n",
      "\tCreates a sphere-like object for our solar-system\n",
      "\t\"\"\"\n",
      "\tdef __init__(self, name, radius = None, location_from_sun = None):\n",
      "\t\tself.name = name\n",
      "\t\tself.radius = radius\n",
      "\t\tself.location_from_sun = location_from_sun\n",
      "\n",
      "\tdef volume(self):\n",
      "\t\t\"\"\"\n",
      "\t\tTake the radius of a stellar obect and returns a volume\n",
      "\t\t\"\"\"\n",
      "\t\tif self.radius:\n",
      "\t\t\treturn (4/3)*pi*self.radius**3\n",
      "\t\telse:\n",
      "\t\t\treturn 'radius is not defined for this object'"
     ],
     "language": "python",
     "metadata": {},
     "outputs": [],
     "prompt_number": 136
    },
    {
     "cell_type": "markdown",
     "metadata": {},
     "source": [
      "A few things to note\u2026 \n",
      "\n",
      "1. Don\u2019t worry about the `self` term that you see everywhere. We\u2019ll return to it in a bit. For now just think of it as a means of passing information along. \n",
      "2. The `__init__` function is special in python. When you create an object of Stellar class, the `__init__` will get called first. This sets up all the planetary attributes you have defined for reference later. \n",
      "\n",
      "Let\u2019s go ahead and instantiate (initialize) a stellar class:"
     ]
    },
    {
     "cell_type": "code",
     "collapsed": false,
     "input": [
      "#import stellar\n",
      "stellar1 = Stellar(name ='Unknown_object', radius = 6371, location_from_sun = 3)\n",
      "print stellar1.radius, stellar1.name, stellar1.volume()"
     ],
     "language": "python",
     "metadata": {},
     "outputs": [
      {
       "output_type": "stream",
       "stream": "stdout",
       "text": [
        "6371 Unknown_object 8.12405187634e+11\n"
       ]
      }
     ],
     "prompt_number": 137
    },
    {
     "cell_type": "markdown",
     "metadata": {},
     "source": [
      "(Just a quick note on execution, since this was created in an ipython notebook, we don't have to worry about importing/referencing the library in order to get to the class. Normally we'd have to say something like `stellar1 = libraryName.Stellar(...)` and that is how the python scripts in the corresponding repo are set up.)\n",
      "\n",
      "I\u2019ve now initialized the variable `stellar1` to represent my `'unkown_object'` as a `Stellar` object. So it has attributes and methods that I can call with `planet.some-method` or `planet.attribute` . Also notice that I didn\u2019t actually have to pass any arguments into the volume method. This comes back to the way we defined the method and the use of `self`.\n",
      "\n",
      "When you are defining a class, you\u2019ll probably want to be able to refer to that instance of the class and all the attributes associated with it. For instance, maybe in the future I\u2019ll want to use the `location_from_sun` attribute in a method to compute some other information. I can use it with `self.location_from_sun` anywhere in class definition. So when I define the volume method, the only parameter that it takes is a Stellar object. To go further, `self` is self-referential, it IS the object itself. To demonstrate, let\u2019s create an attribute that refers to itself... "
     ]
    },
    {
     "cell_type": "code",
     "collapsed": false,
     "input": [
      "class Recursive:\n",
      "\t\"\"\"\n",
      "\tCreates a planetary object for our solar-system\n",
      "\t\"\"\"\n",
      "\tdef __init__(self):\n",
      "\t\tself.name = self\n",
      "\n",
      "recur = Recursive()\n",
      "print recur.name == recur.name.name == recur.name.name == recur.name.name.name"
     ],
     "language": "python",
     "metadata": {},
     "outputs": [
      {
       "output_type": "stream",
       "stream": "stdout",
       "text": [
        "True\n"
       ]
      }
     ],
     "prompt_number": 138
    },
    {
     "cell_type": "markdown",
     "metadata": {},
     "source": [
      "As you can see, by defining an attribute that is equal to `self`, we\u2019ve essentially created a recursive call on the object we just created. While not immediately useful, recursive class definitions can lead to some incredibly elegant and concise code. But that\u2019s a story for another day. Let\u2019s get back to creating some more objects.\n",
      "\n",
      "We currently have a method for creating a spherical planetary object. But while exploring our solar system we found asteroids which aren't a sphere at all. We\u2019d like to be able to assign unique attributes and methods to asteroids, like calculating it\u2019s volume. We could do a couple of things to accomplish this. First, we could create an entirely new class, specific just to asteroids. Secondly, we could create a subclass within the spherical class. I\u2019ll choose the latter because a) we\u2019ve seen how to do the former already and b) there aren\u2019t too many planetary objects that are ellipsoids other than asteroids. Let\u2019s see what a subclass looks like:"
     ]
    },
    {
     "cell_type": "code",
     "collapsed": false,
     "input": [
      "from math import pi\n",
      "class Stellar:\n",
      "\t\"\"\"\n",
      "\tCreates a planetary object for our solar-system\n",
      "\t\"\"\"\n",
      "    # we saw this part already\n",
      "\tdef __init__(self, name, radius = None, location_from_sun = None):\n",
      "\t\tself.name = name\n",
      "\t\tself.radius = radius\n",
      "\t\tself.location_from_sun = location_from_sun\n",
      "\n",
      "\tdef volume(self):\n",
      "\t\t\"\"\"\n",
      "\t\tTake the radius of a stellar obect and returns a volume\n",
      "\t\t\"\"\"\n",
      "\t\tif self.radius:\n",
      "\t\t\treturn (4/3)*pi*self.radius**3\n",
      "\t\telse:\n",
      "\t\t\treturn 'radius is not defined for this object'\n",
      "        \n",
      "# now let's define a subclass\n",
      "class Asteroid(Stellar):\n",
      "    def __init__(self, name, a_axis, b_axis, c_axis):\n",
      "        Stellar.__init__(self, name)\n",
      "        self.a_axis = a_axis\n",
      "        self.b_axis = b_axis\n",
      "        self.c_axis = c_axis\n",
      "    def volume(self):\n",
      "        volume = (4/3)*pi*self.a_axis*self.b_axis*self.c_axis\n",
      "        return volume"
     ],
     "language": "python",
     "metadata": {},
     "outputs": [],
     "prompt_number": 139
    },
    {
     "cell_type": "code",
     "collapsed": false,
     "input": [
      "ast1 = Asteroid('halebop', 2, 3, 4)\n",
      "print str(ast1.name) +' has volume ' + str(ast1.volume())"
     ],
     "language": "python",
     "metadata": {},
     "outputs": [
      {
       "output_type": "stream",
       "stream": "stdout",
       "text": [
        "halebob has volume 75.3982236862\n"
       ]
      }
     ],
     "prompt_number": 143
    },
    {
     "cell_type": "markdown",
     "metadata": {},
     "source": [
      "The `subclass` is defined outside of its `superclass`. It `inherits` all the attributes and methods of the superclass, unless we decide to `overwrite` it. In our example, we\u2019ve defined a class `Asteroid` that is a subclass of `Stellar`. Within the subclass `__init__` function we assign all the attributes we\u2019d like to inheret from the superclass (in the astroids case, just the name) by calling the superclass's `__init__` function. We also assign all the asteroid\u2019s unique attributes (the a, b, and c axes). Finally, we define all the methods that will be unique to the subclass, like the function to compute the volume of an elipsoid.\n",
      "\n",
      "After further exploration we realize that our alien solar system has planets and stars, so let\u2019s go ahead and define two more subclasses to classify them:"
     ]
    },
    {
     "cell_type": "code",
     "collapsed": false,
     "input": [
      "from math import pi\n",
      "class Stellar:\n",
      "\t\"\"\"\n",
      "\tCreates a planetary object for our solar-system\n",
      "\t\"\"\"\n",
      "\tdef __init__(self, name, radius = None, location_from_sun = None):\n",
      "\t\tself.name = name\n",
      "\t\tself.radius = radius\n",
      "\t\tself.location_from_sun = location_from_sun\n",
      "\n",
      "\tdef volume(self):\n",
      "\t\t\"\"\"\n",
      "\t\tTake the radius of a stellar obect and returns a volume\n",
      "\t\t\"\"\"\n",
      "\t\tif self.radius:\n",
      "\t\t\treturn (4/3)*pi*self.radius**3\n",
      "\t\telse:\n",
      "\t\t\treturn 'radius is not defined for this object'\n",
      "\n",
      "class Asteroid(Stellar):\n",
      "    \"\"\"\n",
      "    Creates an asteroid object, a subclass of Stellar\n",
      "    \"\"\"\n",
      "    def __init__(self, name, a_axis, b_axis, c_axis):\n",
      "        Stellar.__init__(self, name)\n",
      "        self.a_axis = a_axis\n",
      "        self.b_axis = b_axis\n",
      "        self.c_axis = c_axis\n",
      "    def volume(self):\n",
      "        volume = (4/3)*pi*self.a_axis*self.b_axis*self.c_axis\n",
      "        return volume\n",
      "    \n",
      "# adding our two new subclasses\n",
      "\n",
      "class Planet(Stellar):\n",
      "    \"\"\"\n",
      "    Creates a planet class\n",
      "    \"\"\"\n",
      "    def __init__(self, name, radius, location_from_sun, hospitable):\n",
      "        Stellar.__init__(self, name, radius, location_from_sun)\n",
      "        self.hospitable = hospitable\n",
      "class Star(Stellar):\n",
      "    \"\"\"\n",
      "    Creates a star class\n",
      "    \"\"\"\n",
      "    def __init__(self, name, radius, classification, hospitable = False):\n",
      "        Stellar.__init__(self, name, radius, location_from_sun = 0)\n",
      "        self.classification = classification\n",
      "        self.hospitable = hospitable "
     ],
     "language": "python",
     "metadata": {},
     "outputs": [],
     "prompt_number": 159
    },
    {
     "cell_type": "code",
     "collapsed": false,
     "input": [
      "planet1 = Planet(name = \"Mars\", radius = 6371, location_from_sun = 4, hospitable = False)\n",
      "planet2 = Star(name = \"Sun\", radius = 695500, classification = \"yellow dwarf\")\n",
      "average_sa = (planet1.volume() + planet2.volume())/2\n",
      "print 'the average volume of ' + str(planet1.name) + ' and ' + str(planet2.name) + ' is ' + str(average_sa)"
     ],
     "language": "python",
     "metadata": {},
     "outputs": [
      {
       "output_type": "stream",
       "stream": "stdout",
       "text": [
        "the average volume of Mars and Sun is 5.28459383566e+17\n"
       ]
      }
     ],
     "prompt_number": 160
    },
    {
     "cell_type": "markdown",
     "metadata": {},
     "source": [
      "You can see how we could add subclasses as we continue finding them. And if we happen to find that our new solar system actually has two stars or twenty planets, creating objects to represent them would be a snap as we already have a blueprint to keep track of all the information we need. Additionally, if we realize we forgot to consider a metric while defining the class, we could easily add it later and it would be available to all instances of that class and its subclasses. Finally, in the case that we categorized everything in our new solar system, we'd have everything we need to move on to the next one.\n",
      "\n",
      "Hopefully this tutorial has been helpful. Like I said, fiddle around and try things out. If you\u2019re ready to move on, check out the holy grail of python programming, chapter 15 in particular is devoted to class definitions. http://www.greenteapress.com/thinkpython/"
     ]
    }
   ],
   "metadata": {}
  }
 ]
}